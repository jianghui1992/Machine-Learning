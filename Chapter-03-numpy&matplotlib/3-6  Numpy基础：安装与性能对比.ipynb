{
 "cells": [
  {
   "cell_type": "markdown",
   "id": "34bbffdb",
   "metadata": {},
   "source": [
    "# 导入Numpy"
   ]
  },
  {
   "cell_type": "code",
   "execution_count": 1,
   "id": "579730a7",
   "metadata": {},
   "outputs": [],
   "source": [
    "import numpy as np"
   ]
  },
  {
   "cell_type": "code",
   "execution_count": null,
   "id": "50ee55fb",
   "metadata": {},
   "outputs": [
    {
     "data": {
      "text/plain": [
       "'2.2.4'"
      ]
     },
     "execution_count": 2,
     "metadata": {},
     "output_type": "execute_result"
    }
   ],
   "source": [
    "# 查询 numpy版本\n",
    "np.__version__"
   ]
  },
  {
   "cell_type": "markdown",
   "id": "1795c6d3",
   "metadata": {},
   "source": [
    "# Numpy与原生Python的性能对比\n",
    "数组x是由 1~n数字组成\n",
    "\n",
    "求数组x的中所有数的平方之和"
   ]
  },
  {
   "cell_type": "code",
   "execution_count": 3,
   "id": "e2616405",
   "metadata": {},
   "outputs": [],
   "source": [
    "n = 1000000"
   ]
  },
  {
   "cell_type": "markdown",
   "id": "a484131f",
   "metadata": {},
   "source": [
    "### Python原生语法实现¶"
   ]
  },
  {
   "cell_type": "code",
   "execution_count": 7,
   "id": "3d334cad",
   "metadata": {},
   "outputs": [
    {
     "name": "stdout",
     "output_type": "stream",
     "text": [
      "162 ms ± 8.59 ms per loop (mean ± std. dev. of 7 runs, 10 loops each)\n"
     ]
    }
   ],
   "source": [
    "%%timeit\n",
    "x = [i for i in range(n+1)]\n",
    "sum_x = 0\n",
    "for i in x:\n",
    "    sum_x += i**2\n",
    "sum_x"
   ]
  },
  {
   "cell_type": "markdown",
   "id": "78d0c4e3",
   "metadata": {},
   "source": [
    "# Numpy实现"
   ]
  },
  {
   "cell_type": "code",
   "execution_count": 8,
   "id": "4c20850b",
   "metadata": {},
   "outputs": [
    {
     "name": "stdout",
     "output_type": "stream",
     "text": [
      "5.26 ms ± 286 μs per loop (mean ± std. dev. of 7 runs, 100 loops each)\n"
     ]
    }
   ],
   "source": [
    "%%timeit\n",
    "x = np.arange(n+1)\n",
    "sum_x = np.sum(x**2)\n",
    "sum_x"
   ]
  }
 ],
 "metadata": {
  "kernelspec": {
   "display_name": "ML",
   "language": "python",
   "name": "python3"
  },
  "language_info": {
   "codemirror_mode": {
    "name": "ipython",
    "version": 3
   },
   "file_extension": ".py",
   "mimetype": "text/x-python",
   "name": "python",
   "nbconvert_exporter": "python",
   "pygments_lexer": "ipython3",
   "version": "3.13.2"
  }
 },
 "nbformat": 4,
 "nbformat_minor": 5
}
