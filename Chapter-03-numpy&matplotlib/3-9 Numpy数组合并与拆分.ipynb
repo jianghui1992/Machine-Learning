{
 "cells": [
  {
   "cell_type": "markdown",
   "id": "b9a56812",
   "metadata": {},
   "source": [
    "# 数组的合并"
   ]
  },
  {
   "cell_type": "code",
   "execution_count": 1,
   "id": "86740c38",
   "metadata": {},
   "outputs": [],
   "source": [
    "import numpy as np"
   ]
  },
  {
   "cell_type": "code",
   "execution_count": 2,
   "id": "61592ea9",
   "metadata": {},
   "outputs": [
    {
     "data": {
      "text/plain": [
       "array([[ 0,  1,  2,  3],\n",
       "       [ 4,  5,  6,  7],\n",
       "       [ 8,  9, 10, 11]])"
      ]
     },
     "execution_count": 2,
     "metadata": {},
     "output_type": "execute_result"
    }
   ],
   "source": [
    "X = np.arange(12).reshape(3,4)\n",
    "X"
   ]
  },
  {
   "cell_type": "code",
   "execution_count": 3,
   "id": "a09f3a99",
   "metadata": {},
   "outputs": [
    {
     "data": {
      "text/plain": [
       "array([6, 6, 6, 6])"
      ]
     },
     "execution_count": 3,
     "metadata": {},
     "output_type": "execute_result"
    }
   ],
   "source": [
    "a = np.array([6,6,6,6])\n",
    "a"
   ]
  },
  {
   "cell_type": "markdown",
   "id": "31c1a9e7",
   "metadata": {},
   "source": [
    "## concatenate\n",
    "* axis: 0:垂直合并(默认), 1: 水平合并"
   ]
  },
  {
   "cell_type": "code",
   "execution_count": null,
   "id": "36416e6c",
   "metadata": {},
   "outputs": [
    {
     "ename": "ValueError",
     "evalue": "all the input arrays must have same number of dimensions, but the array at index 0 has 2 dimension(s) and the array at index 1 has 1 dimension(s)",
     "output_type": "error",
     "traceback": [
      "\u001b[31m---------------------------------------------------------------------------\u001b[39m",
      "\u001b[31mValueError\u001b[39m                                Traceback (most recent call last)",
      "\u001b[36mCell\u001b[39m\u001b[36m \u001b[39m\u001b[32mIn[4]\u001b[39m\u001b[32m, line 1\u001b[39m\n\u001b[32m----> \u001b[39m\u001b[32m1\u001b[39m np.concatenate((X,a))\n",
      "\u001b[31mValueError\u001b[39m: all the input arrays must have same number of dimensions, but the array at index 0 has 2 dimension(s) and the array at index 1 has 1 dimension(s)"
     ]
    }
   ],
   "source": [
    "#不同维度的数组是无法合并的\n",
    "np.concatenate((X,a)) "
   ]
  },
  {
   "cell_type": "code",
   "execution_count": 6,
   "id": "a0dc5617",
   "metadata": {},
   "outputs": [
    {
     "data": {
      "text/plain": [
       "array([[ 0,  1,  2,  3],\n",
       "       [ 4,  5,  6,  7],\n",
       "       [ 8,  9, 10, 11],\n",
       "       [ 6,  6,  6,  6]])"
      ]
     },
     "execution_count": 6,
     "metadata": {},
     "output_type": "execute_result"
    }
   ],
   "source": [
    "# a.reshape(1,4) 把a转成1*4的2维数组\n",
    "A = np.concatenate((X,a.reshape(1,4)))\n",
    "A"
   ]
  },
  {
   "cell_type": "markdown",
   "id": "b2ed7062",
   "metadata": {},
   "source": [
    "## vstack 垂直合并"
   ]
  },
  {
   "cell_type": "code",
   "execution_count": null,
   "id": "97b952f6",
   "metadata": {},
   "outputs": [
    {
     "data": {
      "text/plain": [
       "array([[ 0,  1,  2,  3],\n",
       "       [ 4,  5,  6,  7],\n",
       "       [ 8,  9, 10, 11],\n",
       "       [ 6,  6,  6,  6]])"
      ]
     },
     "execution_count": 9,
     "metadata": {},
     "output_type": "execute_result"
    }
   ],
   "source": [
    "# vstack在竖直方向上堆叠(合并), 就是把X放到a上面\n",
    "np.vstack((X,a))"
   ]
  },
  {
   "cell_type": "markdown",
   "id": "9a686e7f",
   "metadata": {},
   "source": [
    "## hstack - 水平合并"
   ]
  },
  {
   "cell_type": "code",
   "execution_count": null,
   "id": "1912eb75",
   "metadata": {},
   "outputs": [
    {
     "data": {
      "text/plain": [
       "array([[666, 666],\n",
       "       [666, 666],\n",
       "       [666, 666]])"
      ]
     },
     "execution_count": 10,
     "metadata": {},
     "output_type": "execute_result"
    }
   ],
   "source": [
    "B = np.full((3,2),666)\n",
    "B"
   ]
  },
  {
   "cell_type": "code",
   "execution_count": null,
   "id": "149d1b59",
   "metadata": {},
   "outputs": [
    {
     "data": {
      "text/plain": [
       "array([[  0,   1,   2,   3, 666, 666],\n",
       "       [  4,   5,   6,   7, 666, 666],\n",
       "       [  8,   9,  10,  11, 666, 666]])"
      ]
     },
     "execution_count": 11,
     "metadata": {},
     "output_type": "execute_result"
    }
   ],
   "source": [
    "# # hstack在水平方向上合并, 就是把X放到a上面\n",
    "np.hstack((X,B))"
   ]
  },
  {
   "cell_type": "code",
   "execution_count": null,
   "id": "33dc34c2",
   "metadata": {},
   "outputs": [
    {
     "data": {
      "text/plain": [
       "array([[  0,   1,   2,   3, 666, 666],\n",
       "       [  4,   5,   6,   7, 666, 666],\n",
       "       [  8,   9,  10,  11, 666, 666]])"
      ]
     },
     "execution_count": 12,
     "metadata": {},
     "output_type": "execute_result"
    }
   ],
   "source": [
    "np.concatenate((X,B),axis=1)"
   ]
  },
  {
   "cell_type": "markdown",
   "id": "5bd2b45c",
   "metadata": {},
   "source": [
    "# 数组的拆分"
   ]
  },
  {
   "cell_type": "code",
   "execution_count": null,
   "id": "f685023c",
   "metadata": {},
   "outputs": [
    {
     "data": {
      "text/plain": [
       "array([[ 0,  1,  2,  3],\n",
       "       [ 4,  5,  6,  7],\n",
       "       [ 8,  9, 10, 11]])"
      ]
     },
     "execution_count": 13,
     "metadata": {},
     "output_type": "execute_result"
    }
   ],
   "source": [
    "X"
   ]
  },
  {
   "cell_type": "markdown",
   "id": "adf8a536",
   "metadata": {},
   "source": [
    "## split"
   ]
  },
  {
   "cell_type": "code",
   "execution_count": null,
   "id": "b7b0fd57",
   "metadata": {},
   "outputs": [
    {
     "data": {
      "text/plain": [
       "[array([[0, 1, 2, 3],\n",
       "        [4, 5, 6, 7]]),\n",
       " array([[ 8,  9, 10, 11]])]"
      ]
     },
     "execution_count": 14,
     "metadata": {},
     "output_type": "execute_result"
    }
   ],
   "source": [
    "# [-1] 拆分的索引\n",
    "np.split(X,[-1], axis=0)"
   ]
  },
  {
   "cell_type": "code",
   "execution_count": null,
   "id": "3bcf8027",
   "metadata": {},
   "outputs": [],
   "source": [
    "X1,X2 = np.split(X,[-1], axis=1)"
   ]
  },
  {
   "cell_type": "code",
   "execution_count": null,
   "id": "63cbc753",
   "metadata": {},
   "outputs": [
    {
     "data": {
      "text/plain": [
       "array([[ 0,  1,  2],\n",
       "       [ 4,  5,  6],\n",
       "       [ 8,  9, 10]])"
      ]
     },
     "execution_count": 16,
     "metadata": {},
     "output_type": "execute_result"
    }
   ],
   "source": [
    "X1"
   ]
  },
  {
   "cell_type": "code",
   "execution_count": null,
   "id": "ce952253",
   "metadata": {},
   "outputs": [
    {
     "data": {
      "text/plain": [
       "array([[ 3],\n",
       "       [ 7],\n",
       "       [11]])"
      ]
     },
     "execution_count": 17,
     "metadata": {},
     "output_type": "execute_result"
    }
   ],
   "source": [
    "X2"
   ]
  },
  {
   "cell_type": "markdown",
   "id": "a1abe41f",
   "metadata": {},
   "source": [
    "## vsplit/hsplit"
   ]
  },
  {
   "cell_type": "code",
   "execution_count": 9,
   "id": "874ee547",
   "metadata": {},
   "outputs": [
    {
     "data": {
      "text/plain": [
       "(array([[0, 1, 2, 3],\n",
       "        [4, 5, 6, 7]]),\n",
       " array([[ 8,  9, 10, 11]]))"
      ]
     },
     "execution_count": 9,
     "metadata": {},
     "output_type": "execute_result"
    }
   ],
   "source": [
    "X1,X2=np.vsplit(X,[2])   \n",
    "X1,X2"
   ]
  },
  {
   "cell_type": "code",
   "execution_count": null,
   "id": "0ab08f0a",
   "metadata": {},
   "outputs": [
    {
     "data": {
      "text/plain": [
       "[array([[0],\n",
       "        [4],\n",
       "        [8]]),\n",
       " array([[ 1,  2],\n",
       "        [ 5,  6],\n",
       "        [ 9, 10]]),\n",
       " array([[ 3],\n",
       "        [ 7],\n",
       "        [11]])]"
      ]
     },
     "execution_count": 7,
     "metadata": {},
     "output_type": "execute_result"
    }
   ],
   "source": [
    "# [1,3]可以理解为切2刀,分别在1,3索引位置\n",
    "np.hsplit(X,[1,3])  "
   ]
  }
 ],
 "metadata": {
  "kernelspec": {
   "display_name": "ML",
   "language": "python",
   "name": "python3"
  },
  "language_info": {
   "codemirror_mode": {
    "name": "ipython",
    "version": 3
   },
   "file_extension": ".py",
   "mimetype": "text/x-python",
   "name": "python",
   "nbconvert_exporter": "python",
   "pygments_lexer": "ipython3",
   "version": "3.13.2"
  }
 },
 "nbformat": 4,
 "nbformat_minor": 5
}
