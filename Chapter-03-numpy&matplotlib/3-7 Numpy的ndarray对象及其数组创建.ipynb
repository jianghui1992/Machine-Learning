{
 "cells": [
  {
   "cell_type": "markdown",
   "id": "9e2e40ee",
   "metadata": {},
   "source": []
  },
  {
   "cell_type": "code",
   "execution_count": 25,
   "id": "b3ac6229",
   "metadata": {},
   "outputs": [],
   "source": [
    "import numpy as np"
   ]
  },
  {
   "cell_type": "markdown",
   "id": "e7410e91",
   "metadata": {},
   "source": [
    "# 1. 创建Numpy数组"
   ]
  },
  {
   "cell_type": "code",
   "execution_count": 26,
   "id": "1b430ae6",
   "metadata": {},
   "outputs": [
    {
     "data": {
      "text/plain": [
       "array([1, 2, 3, 4, 5, 6])"
      ]
     },
     "execution_count": 26,
     "metadata": {},
     "output_type": "execute_result"
    }
   ],
   "source": [
    "a = np.array([1,2,3,4,5,6])  # 一维数组/向量\n",
    "a"
   ]
  },
  {
   "cell_type": "code",
   "execution_count": 27,
   "id": "6bd56ef2",
   "metadata": {},
   "outputs": [
    {
     "data": {
      "text/plain": [
       "array([[1, 2, 3],\n",
       "       [5, 6, 7]])"
      ]
     },
     "execution_count": 27,
     "metadata": {},
     "output_type": "execute_result"
    }
   ],
   "source": [
    "# 二维数组/矩阵\n",
    "A = np.array(\n",
    "    [\n",
    "        [1,2,3],\n",
    "        [5,6,7]\n",
    "    ]\n",
    ")\n",
    "A"
   ]
  },
  {
   "cell_type": "markdown",
   "id": "42a4da5f",
   "metadata": {},
   "source": [
    "# 2. Numpy数组的属性"
   ]
  },
  {
   "cell_type": "markdown",
   "id": "20301fc0",
   "metadata": {},
   "source": [
    "## ndim-维度"
   ]
  },
  {
   "cell_type": "code",
   "execution_count": 28,
   "id": "b377c529",
   "metadata": {},
   "outputs": [
    {
     "data": {
      "text/plain": [
       "1"
      ]
     },
     "execution_count": 28,
     "metadata": {},
     "output_type": "execute_result"
    }
   ],
   "source": [
    "a.ndim"
   ]
  },
  {
   "cell_type": "code",
   "execution_count": 29,
   "id": "02c5cdad",
   "metadata": {},
   "outputs": [
    {
     "data": {
      "text/plain": [
       "2"
      ]
     },
     "execution_count": 29,
     "metadata": {},
     "output_type": "execute_result"
    }
   ],
   "source": [
    "A.ndim"
   ]
  },
  {
   "cell_type": "markdown",
   "id": "34dbdcc1",
   "metadata": {},
   "source": [
    "## shape - 数组的形状"
   ]
  },
  {
   "cell_type": "code",
   "execution_count": 30,
   "id": "1837debb",
   "metadata": {},
   "outputs": [
    {
     "data": {
      "text/plain": [
       "(6,)"
      ]
     },
     "execution_count": 30,
     "metadata": {},
     "output_type": "execute_result"
    }
   ],
   "source": [
    "a.shape"
   ]
  },
  {
   "cell_type": "code",
   "execution_count": 31,
   "id": "eb1c2a06",
   "metadata": {},
   "outputs": [
    {
     "data": {
      "text/plain": [
       "(2, 3)"
      ]
     },
     "execution_count": 31,
     "metadata": {},
     "output_type": "execute_result"
    }
   ],
   "source": [
    "A.shape\n",
    "# (2, 3)表示2行3列"
   ]
  },
  {
   "cell_type": "markdown",
   "id": "0f857d21",
   "metadata": {},
   "source": [
    "## size - 元素个数"
   ]
  },
  {
   "cell_type": "code",
   "execution_count": 32,
   "id": "20b17e0c",
   "metadata": {},
   "outputs": [
    {
     "data": {
      "text/plain": [
       "6"
      ]
     },
     "execution_count": 32,
     "metadata": {},
     "output_type": "execute_result"
    }
   ],
   "source": [
    "a.size"
   ]
  },
  {
   "cell_type": "code",
   "execution_count": 33,
   "id": "55b341dd",
   "metadata": {},
   "outputs": [
    {
     "data": {
      "text/plain": [
       "6"
      ]
     },
     "execution_count": 33,
     "metadata": {},
     "output_type": "execute_result"
    }
   ],
   "source": [
    "A.size"
   ]
  },
  {
   "cell_type": "markdown",
   "id": "a9d609e8",
   "metadata": {},
   "source": [
    "## dtype - 数据类型"
   ]
  },
  {
   "cell_type": "code",
   "execution_count": 34,
   "id": "42979ed9",
   "metadata": {},
   "outputs": [
    {
     "data": {
      "text/plain": [
       "dtype('int64')"
      ]
     },
     "execution_count": 34,
     "metadata": {},
     "output_type": "execute_result"
    }
   ],
   "source": [
    "a.dtype"
   ]
  },
  {
   "cell_type": "code",
   "execution_count": 35,
   "id": "a786d8ee",
   "metadata": {},
   "outputs": [
    {
     "data": {
      "text/plain": [
       "dtype('int64')"
      ]
     },
     "execution_count": 35,
     "metadata": {},
     "output_type": "execute_result"
    }
   ],
   "source": [
    "A.dtype"
   ]
  },
  {
   "cell_type": "markdown",
   "id": "97888ae3",
   "metadata": {},
   "source": [
    "## itemsize 元素内存大小"
   ]
  },
  {
   "cell_type": "code",
   "execution_count": null,
   "id": "77caf409",
   "metadata": {},
   "outputs": [
    {
     "data": {
      "text/plain": [
       "8"
      ]
     },
     "execution_count": 118,
     "metadata": {},
     "output_type": "execute_result"
    }
   ],
   "source": [
    "#每一个元素的内存大小\n",
    "A.itemsize"
   ]
  },
  {
   "cell_type": "markdown",
   "id": "9ef76088",
   "metadata": {},
   "source": [
    "# 3. 创建数组的便捷函数"
   ]
  },
  {
   "cell_type": "markdown",
   "id": "dc0f27d4",
   "metadata": {},
   "source": [
    "##  ones - 创建元素是1的数组"
   ]
  },
  {
   "cell_type": "code",
   "execution_count": 36,
   "id": "dcfbe223",
   "metadata": {},
   "outputs": [
    {
     "data": {
      "text/plain": [
       "array([1., 1., 1., 1., 1., 1., 1., 1.])"
      ]
     },
     "execution_count": 36,
     "metadata": {},
     "output_type": "execute_result"
    }
   ],
   "source": [
    "np.ones(8)"
   ]
  },
  {
   "cell_type": "code",
   "execution_count": 37,
   "id": "a5a91349",
   "metadata": {},
   "outputs": [
    {
     "data": {
      "text/plain": [
       "dtype('float64')"
      ]
     },
     "execution_count": 37,
     "metadata": {},
     "output_type": "execute_result"
    }
   ],
   "source": [
    "# 默认使用的float64数据类型\n",
    "np.ones(8).dtype"
   ]
  },
  {
   "cell_type": "code",
   "execution_count": 38,
   "id": "8f5b5b2d",
   "metadata": {},
   "outputs": [
    {
     "data": {
      "text/plain": [
       "array([1, 1, 1, 1, 1, 1, 1, 1])"
      ]
     },
     "execution_count": 38,
     "metadata": {},
     "output_type": "execute_result"
    }
   ],
   "source": [
    "# 指定数据类型为int64\n",
    "np.ones(8,dtype='int64')"
   ]
  },
  {
   "cell_type": "code",
   "execution_count": 39,
   "id": "7fa2c02b",
   "metadata": {},
   "outputs": [
    {
     "data": {
      "text/plain": [
       "array([[1., 1., 1., 1.],\n",
       "       [1., 1., 1., 1.]])"
      ]
     },
     "execution_count": 39,
     "metadata": {},
     "output_type": "execute_result"
    }
   ],
   "source": [
    "# 创建2行4列数组\n",
    "np.ones((2,4))"
   ]
  },
  {
   "cell_type": "code",
   "execution_count": 40,
   "id": "ddd49d8a",
   "metadata": {},
   "outputs": [
    {
     "data": {
      "text/plain": [
       "array([[1, 1, 1],\n",
       "       [1, 1, 1]])"
      ]
     },
     "execution_count": 40,
     "metadata": {},
     "output_type": "execute_result"
    }
   ],
   "source": [
    "# 创建形状相同的数组\n",
    "np.ones_like(A)"
   ]
  },
  {
   "cell_type": "markdown",
   "id": "35c985f5",
   "metadata": {},
   "source": [
    "## zeros - 创建元素是0的数组"
   ]
  },
  {
   "cell_type": "code",
   "execution_count": 41,
   "id": "d302ede9",
   "metadata": {},
   "outputs": [
    {
     "data": {
      "text/plain": [
       "array([0., 0., 0., 0., 0., 0., 0., 0.])"
      ]
     },
     "execution_count": 41,
     "metadata": {},
     "output_type": "execute_result"
    }
   ],
   "source": [
    "np.zeros(8)"
   ]
  },
  {
   "cell_type": "code",
   "execution_count": 42,
   "id": "a6732605",
   "metadata": {},
   "outputs": [
    {
     "data": {
      "text/plain": [
       "array([[0., 0., 0., 0.],\n",
       "       [0., 0., 0., 0.]])"
      ]
     },
     "execution_count": 42,
     "metadata": {},
     "output_type": "execute_result"
    }
   ],
   "source": [
    "np.zeros((2,4))"
   ]
  },
  {
   "cell_type": "code",
   "execution_count": 43,
   "id": "fabe2ce8",
   "metadata": {},
   "outputs": [
    {
     "data": {
      "text/plain": [
       "array([[0, 0, 0],\n",
       "       [0, 0, 0]])"
      ]
     },
     "execution_count": 43,
     "metadata": {},
     "output_type": "execute_result"
    }
   ],
   "source": [
    "np.zeros_like(A)"
   ]
  },
  {
   "cell_type": "markdown",
   "id": "068bf331",
   "metadata": {},
   "source": [
    "## full - 创建指定数值的数组"
   ]
  },
  {
   "cell_type": "code",
   "execution_count": 44,
   "id": "d45f29dd",
   "metadata": {},
   "outputs": [
    {
     "data": {
      "text/plain": [
       "array([666, 666, 666, 666, 666, 666, 666, 666])"
      ]
     },
     "execution_count": 44,
     "metadata": {},
     "output_type": "execute_result"
    }
   ],
   "source": [
    "\n",
    "np.full(8,666)"
   ]
  },
  {
   "cell_type": "code",
   "execution_count": 45,
   "id": "258b05d4",
   "metadata": {},
   "outputs": [
    {
     "data": {
      "text/plain": [
       "array([[666, 666, 666, 666],\n",
       "       [666, 666, 666, 666]])"
      ]
     },
     "execution_count": 45,
     "metadata": {},
     "output_type": "execute_result"
    }
   ],
   "source": [
    "np.full((2,4),666)"
   ]
  },
  {
   "cell_type": "code",
   "execution_count": 46,
   "id": "ce742930",
   "metadata": {},
   "outputs": [
    {
     "data": {
      "text/plain": [
       "array([[666, 666, 666],\n",
       "       [666, 666, 666]])"
      ]
     },
     "execution_count": 46,
     "metadata": {},
     "output_type": "execute_result"
    }
   ],
   "source": [
    "np.full_like(A, 666)"
   ]
  },
  {
   "cell_type": "markdown",
   "id": "aa41c3d5",
   "metadata": {},
   "source": [
    "## empty - 创建指定形状的空数组(元素是随机值)"
   ]
  },
  {
   "cell_type": "code",
   "execution_count": 47,
   "id": "aa549538",
   "metadata": {},
   "outputs": [
    {
     "data": {
      "text/plain": [
       "array([0., 0., 0., 0., 0., 0., 0., 0.])"
      ]
     },
     "execution_count": 47,
     "metadata": {},
     "output_type": "execute_result"
    }
   ],
   "source": [
    "np.empty(8)"
   ]
  },
  {
   "cell_type": "code",
   "execution_count": 48,
   "id": "d53455db",
   "metadata": {},
   "outputs": [
    {
     "data": {
      "text/plain": [
       "array([[0., 0., 0., 0.],\n",
       "       [0., 0., 0., 0.]])"
      ]
     },
     "execution_count": 48,
     "metadata": {},
     "output_type": "execute_result"
    }
   ],
   "source": [
    "np.empty((2,4))"
   ]
  },
  {
   "cell_type": "code",
   "execution_count": 49,
   "id": "c03c09ff",
   "metadata": {},
   "outputs": [
    {
     "data": {
      "text/plain": [
       "array([[0, 0, 0],\n",
       "       [0, 0, 0]])"
      ]
     },
     "execution_count": 49,
     "metadata": {},
     "output_type": "execute_result"
    }
   ],
   "source": [
    "np.empty_like(A)"
   ]
  },
  {
   "cell_type": "markdown",
   "id": "ce79b079",
   "metadata": {},
   "source": [
    "## arange - 创建等差数组"
   ]
  },
  {
   "cell_type": "code",
   "execution_count": 50,
   "id": "c15ba302",
   "metadata": {},
   "outputs": [
    {
     "data": {
      "text/plain": [
       "array([0, 1, 2, 3, 4, 5, 6, 7, 8, 9])"
      ]
     },
     "execution_count": 50,
     "metadata": {},
     "output_type": "execute_result"
    }
   ],
   "source": [
    "# 创建数据范围[0,10),步长1的数组(0和1都是默认值)\n",
    "np.arange(10)"
   ]
  },
  {
   "cell_type": "code",
   "execution_count": 51,
   "id": "3044674d",
   "metadata": {},
   "outputs": [
    {
     "data": {
      "text/plain": [
       "array([1, 3, 5, 7, 9])"
      ]
     },
     "execution_count": 51,
     "metadata": {},
     "output_type": "execute_result"
    }
   ],
   "source": [
    "# 创建数据范围[1,20),步长2的数组\n",
    "np.arange(1,10,2)"
   ]
  },
  {
   "cell_type": "code",
   "execution_count": null,
   "id": "346ef9eb",
   "metadata": {},
   "outputs": [
    {
     "data": {
      "text/plain": [
       "array([[0, 1, 2, 3, 4],\n",
       "       [5, 6, 7, 8, 9]])"
      ]
     },
     "execution_count": 52,
     "metadata": {},
     "output_type": "execute_result"
    }
   ],
   "source": [
    "# reshape 设置形状\n",
    "np.arange(10).reshape(2,5)"
   ]
  },
  {
   "cell_type": "markdown",
   "id": "22a7b5f8",
   "metadata": {},
   "source": [
    "## linspace 创建指定元素个数的等差数组"
   ]
  },
  {
   "cell_type": "code",
   "execution_count": 75,
   "id": "98d12621",
   "metadata": {},
   "outputs": [
    {
     "data": {
      "text/plain": [
       "array([ 0,  2,  5,  7, 10])"
      ]
     },
     "execution_count": 75,
     "metadata": {},
     "output_type": "execute_result"
    }
   ],
   "source": [
    "# 创建数组,数据范围[0,10],元素个数5个\n",
    "np.linspace(0,10,5,dtype=\"int64\")"
   ]
  },
  {
   "cell_type": "markdown",
   "id": "4ed4190f",
   "metadata": {},
   "source": [
    "# 4. random模块"
   ]
  },
  {
   "cell_type": "markdown",
   "id": "ea5d03db",
   "metadata": {},
   "source": [
    "## random"
   ]
  },
  {
   "cell_type": "code",
   "execution_count": null,
   "id": "03989895",
   "metadata": {},
   "outputs": [
    {
     "data": {
      "text/plain": [
       "0.9594551235264691"
      ]
     },
     "execution_count": 76,
     "metadata": {},
     "output_type": "execute_result"
    }
   ],
   "source": [
    "# 返回[0,1)之间的随机数\n",
    "np.random.random()"
   ]
  },
  {
   "cell_type": "code",
   "execution_count": null,
   "id": "0fb7f4ea",
   "metadata": {},
   "outputs": [
    {
     "data": {
      "text/plain": [
       "array([0.52414204, 0.03643288, 0.72687158, 0.00390984, 0.050294  ])"
      ]
     },
     "execution_count": 77,
     "metadata": {},
     "output_type": "execute_result"
    }
   ],
   "source": [
    "# 生成5个[0,1)之间的随机数\n",
    "np.random.random(5)"
   ]
  },
  {
   "cell_type": "code",
   "execution_count": null,
   "id": "b38c2d71",
   "metadata": {
    "scrolled": true
   },
   "outputs": [
    {
     "data": {
      "text/plain": [
       "array([[0.69763054, 0.81210236, 0.22783067, 0.03758508],\n",
       "       [0.27630252, 0.13085244, 0.37448534, 0.76955431]])"
      ]
     },
     "execution_count": 56,
     "metadata": {},
     "output_type": "execute_result"
    }
   ],
   "source": [
    "# 返回一个指定形状的随机数数组\n",
    "np.random.random((2,4))"
   ]
  },
  {
   "cell_type": "markdown",
   "id": "a9b3e58f",
   "metadata": {},
   "source": [
    "## rand\n",
    "> 和random区别是参数传递方式不同,效果都一样\n",
    "* random使用元祖传参, rand不用"
   ]
  },
  {
   "cell_type": "code",
   "execution_count": 78,
   "id": "ed115850",
   "metadata": {},
   "outputs": [
    {
     "data": {
      "text/plain": [
       "0.9919923158752376"
      ]
     },
     "execution_count": 78,
     "metadata": {},
     "output_type": "execute_result"
    }
   ],
   "source": [
    "np.random.rand()"
   ]
  },
  {
   "cell_type": "code",
   "execution_count": 79,
   "id": "515c84ef",
   "metadata": {},
   "outputs": [
    {
     "data": {
      "text/plain": [
       "array([0.2122575 , 0.94737066, 0.45154055, 0.99879467, 0.64750149])"
      ]
     },
     "execution_count": 79,
     "metadata": {},
     "output_type": "execute_result"
    }
   ],
   "source": [
    "np.random.rand(5)"
   ]
  },
  {
   "cell_type": "code",
   "execution_count": 81,
   "id": "1fbdfd2c",
   "metadata": {},
   "outputs": [
    {
     "data": {
      "text/plain": [
       "array([[0.46848893, 0.23431308, 0.08982494, 0.67940357],\n",
       "       [0.65592832, 0.0039444 , 0.06654134, 0.00112109]])"
      ]
     },
     "execution_count": 81,
     "metadata": {},
     "output_type": "execute_result"
    }
   ],
   "source": [
    "np.random.rand(2,4)"
   ]
  },
  {
   "cell_type": "markdown",
   "id": "158bcb79",
   "metadata": {},
   "source": [
    "## randint 指定数据区间的随机int数"
   ]
  },
  {
   "cell_type": "code",
   "execution_count": 82,
   "id": "fa3e1c18",
   "metadata": {},
   "outputs": [
    {
     "data": {
      "text/plain": [
       "4"
      ]
     },
     "execution_count": 82,
     "metadata": {},
     "output_type": "execute_result"
    }
   ],
   "source": [
    "np.random.randint(5)"
   ]
  },
  {
   "cell_type": "code",
   "execution_count": 83,
   "id": "11e25e2b",
   "metadata": {},
   "outputs": [
    {
     "data": {
      "text/plain": [
       "6"
      ]
     },
     "execution_count": 83,
     "metadata": {},
     "output_type": "execute_result"
    }
   ],
   "source": [
    "# 返回[5,10)区间的整数\n",
    "np.random.randint(5,10)"
   ]
  },
  {
   "cell_type": "code",
   "execution_count": 84,
   "id": "9eea6bb6",
   "metadata": {},
   "outputs": [
    {
     "data": {
      "text/plain": [
       "array([5, 5, 9, 5, 9, 6, 7, 6])"
      ]
     },
     "execution_count": 84,
     "metadata": {},
     "output_type": "execute_result"
    }
   ],
   "source": [
    "np.random.randint(5,10,size=8)"
   ]
  },
  {
   "cell_type": "code",
   "execution_count": 85,
   "id": "bfcf1ccc",
   "metadata": {},
   "outputs": [
    {
     "data": {
      "text/plain": [
       "array([[6, 8, 7, 6],\n",
       "       [6, 9, 9, 9]])"
      ]
     },
     "execution_count": 85,
     "metadata": {},
     "output_type": "execute_result"
    }
   ],
   "source": [
    "np.random.randint(5,10,size=(2,4))"
   ]
  },
  {
   "cell_type": "markdown",
   "id": "365c2b85",
   "metadata": {},
   "source": [
    "## seed - 指定随机种子"
   ]
  },
  {
   "cell_type": "code",
   "execution_count": 96,
   "id": "f72ef958",
   "metadata": {},
   "outputs": [
    {
     "data": {
      "text/plain": [
       "array([[9, 7, 6, 9],\n",
       "       [8, 8, 9, 9]])"
      ]
     },
     "execution_count": 96,
     "metadata": {},
     "output_type": "execute_result"
    }
   ],
   "source": [
    "# 每次返回的随机值都是一样的\n",
    "np.random.seed(666)\n",
    "np.random.randint(5,10,size=(2,4))"
   ]
  },
  {
   "cell_type": "markdown",
   "id": "4d0dd71a",
   "metadata": {},
   "source": [
    "## randn 返回标准正态分布的随机值"
   ]
  },
  {
   "cell_type": "code",
   "execution_count": 103,
   "id": "de06cd68",
   "metadata": {},
   "outputs": [
    {
     "data": {
      "text/plain": [
       "array([0.84463262, 0.27721986, 0.85290153, 0.1945996 , 1.31063772])"
      ]
     },
     "execution_count": 103,
     "metadata": {},
     "output_type": "execute_result"
    }
   ],
   "source": [
    "# 返回标准正态分布的随机值, 均值为0,标准差为1\n",
    "np.random.randn(5)"
   ]
  },
  {
   "cell_type": "code",
   "execution_count": 105,
   "id": "a8d6986b",
   "metadata": {},
   "outputs": [
    {
     "data": {
      "text/plain": [
       "array([[ 0.29655378, -0.3126795 , -0.61130127, -0.8217515 ],\n",
       "       [ 0.8971227 ,  0.13607861, -0.2586548 ,  1.11076564]])"
      ]
     },
     "execution_count": 105,
     "metadata": {},
     "output_type": "execute_result"
    }
   ],
   "source": [
    "np.random.randn(2,4)"
   ]
  },
  {
   "cell_type": "markdown",
   "id": "7cbc9e27",
   "metadata": {},
   "source": [
    "## normal - 返回可以设置均值和方差的随机值"
   ]
  },
  {
   "cell_type": "code",
   "execution_count": 110,
   "id": "824243d9",
   "metadata": {},
   "outputs": [
    {
     "data": {
      "text/plain": [
       "-0.9139589871488081"
      ]
     },
     "execution_count": 110,
     "metadata": {},
     "output_type": "execute_result"
    }
   ],
   "source": [
    "# 默认均值为0,标准差为1\n",
    "np.random.normal()"
   ]
  },
  {
   "cell_type": "code",
   "execution_count": 111,
   "id": "dee425eb",
   "metadata": {},
   "outputs": [
    {
     "data": {
      "text/plain": [
       "array([ -48.49492958,  -48.39237081,    9.28183738, -184.29666053,\n",
       "        -12.02022763, -147.05176264,   -8.62669391,   36.64167135,\n",
       "        -50.91154588,  -98.08142141,  166.9808226 ,    0.84546907,\n",
       "        -79.69317904,  123.33561037,  182.20470793,   70.93781785,\n",
       "         69.03514395,  -53.49463372,  196.28895645,  -76.98123368])"
      ]
     },
     "execution_count": 111,
     "metadata": {},
     "output_type": "execute_result"
    }
   ],
   "source": [
    "# 均值10,标准差 1000, 生成20个\n",
    "np.random.normal(10,100,20)"
   ]
  },
  {
   "cell_type": "code",
   "execution_count": 112,
   "id": "c240b63e",
   "metadata": {},
   "outputs": [
    {
     "data": {
      "text/plain": [
       "array([[ -68.45173996,  -30.77066124,  115.3000946 ,  -53.826851  ,\n",
       "         237.52404065],\n",
       "       [ 191.73648768,    3.76591424,   35.14009023,   18.30772216,\n",
       "          46.24901024],\n",
       "       [   1.48632425,   98.36277176, -189.20935775,    3.99331353,\n",
       "         -68.30028776],\n",
       "       [-151.3623447 , -169.70003058,  -20.58024488,   76.99216959,\n",
       "         150.28544538]])"
      ]
     },
     "execution_count": 112,
     "metadata": {},
     "output_type": "execute_result"
    }
   ],
   "source": [
    "# 均值10,标准差 1000, 生成4*5个随机值\n",
    "np.random.normal(10,100,size=(4,5))"
   ]
  },
  {
   "cell_type": "markdown",
   "id": "6a7bd821",
   "metadata": {},
   "source": [
    "## uniform 指定数据区间的随机浮点数"
   ]
  },
  {
   "cell_type": "code",
   "execution_count": null,
   "id": "3dfc3e7a",
   "metadata": {},
   "outputs": [
    {
     "data": {
      "text/plain": [
       "0.5018935081312759"
      ]
     },
     "execution_count": 70,
     "metadata": {},
     "output_type": "execute_result"
    }
   ],
   "source": [
    "# 默认生成 [0,1)之间的随机数\n",
    "np.random.uniform()"
   ]
  },
  {
   "cell_type": "code",
   "execution_count": null,
   "id": "480a13fc",
   "metadata": {},
   "outputs": [
    {
     "data": {
      "text/plain": [
       "2.993092519645257"
      ]
     },
     "execution_count": 71,
     "metadata": {},
     "output_type": "execute_result"
    }
   ],
   "source": [
    "# 生成 1-5之间的随机数\n",
    "np.random.uniform(1,5)"
   ]
  },
  {
   "cell_type": "code",
   "execution_count": 113,
   "id": "ae38422f",
   "metadata": {},
   "outputs": [
    {
     "data": {
      "text/plain": [
       "array([[1.92413988, 3.19308173, 2.2782408 , 3.9208452 ],\n",
       "       [4.7702893 , 4.09769009, 4.45516306, 4.31614461],\n",
       "       [4.25518587, 3.52664935, 3.75241702, 1.38022167]])"
      ]
     },
     "execution_count": 113,
     "metadata": {},
     "output_type": "execute_result"
    }
   ],
   "source": [
    "np.random.uniform(1,5,(3,4))"
   ]
  },
  {
   "cell_type": "markdown",
   "id": "a8e1a504",
   "metadata": {},
   "source": [
    "# 5. 查询函数文档"
   ]
  },
  {
   "cell_type": "code",
   "execution_count": 116,
   "id": "6c9cf4a1",
   "metadata": {},
   "outputs": [
    {
     "name": "stdout",
     "output_type": "stream",
     "text": [
      "\u001b[31mSignature:\u001b[39m np.random.uniform(low=\u001b[32m0.0\u001b[39m, high=\u001b[32m1.0\u001b[39m, size=\u001b[38;5;28;01mNone\u001b[39;00m)\n",
      "\u001b[31mDocstring:\u001b[39m\n",
      "uniform(low=0.0, high=1.0, size=None)\n",
      "\n",
      "Draw samples from a uniform distribution.\n",
      "\n",
      "Samples are uniformly distributed over the half-open interval\n",
      "``[low, high)`` (includes low, but excludes high).  In other words,\n",
      "any value within the given interval is equally likely to be drawn\n",
      "by `uniform`.\n",
      "\n",
      ".. note::\n",
      "    New code should use the `~numpy.random.Generator.uniform`\n",
      "    method of a `~numpy.random.Generator` instance instead;\n",
      "    please see the :ref:`random-quick-start`.\n",
      "\n",
      "Parameters\n",
      "----------\n",
      "low : float or array_like of floats, optional\n",
      "    Lower boundary of the output interval.  All values generated will be\n",
      "    greater than or equal to low.  The default value is 0.\n",
      "high : float or array_like of floats\n",
      "    Upper boundary of the output interval.  All values generated will be\n",
      "    less than or equal to high.  The high limit may be included in the \n",
      "    returned array of floats due to floating-point rounding in the \n",
      "    equation ``low + (high-low) * random_sample()``.  The default value \n",
      "    is 1.0.\n",
      "size : int or tuple of ints, optional\n",
      "    Output shape.  If the given shape is, e.g., ``(m, n, k)``, then\n",
      "    ``m * n * k`` samples are drawn.  If size is ``None`` (default),\n",
      "    a single value is returned if ``low`` and ``high`` are both scalars.\n",
      "    Otherwise, ``np.broadcast(low, high).size`` samples are drawn.\n",
      "\n",
      "Returns\n",
      "-------\n",
      "out : ndarray or scalar\n",
      "    Drawn samples from the parameterized uniform distribution.\n",
      "\n",
      "See Also\n",
      "--------\n",
      "randint : Discrete uniform distribution, yielding integers.\n",
      "random_integers : Discrete uniform distribution over the closed\n",
      "                  interval ``[low, high]``.\n",
      "random_sample : Floats uniformly distributed over ``[0, 1)``.\n",
      "random : Alias for `random_sample`.\n",
      "rand : Convenience function that accepts dimensions as input, e.g.,\n",
      "       ``rand(2,2)`` would generate a 2-by-2 array of floats,\n",
      "       uniformly distributed over ``[0, 1)``.\n",
      "random.Generator.uniform: which should be used for new code.\n",
      "\n",
      "Notes\n",
      "-----\n",
      "The probability density function of the uniform distribution is\n",
      "\n",
      ".. math:: p(x) = \\frac{1}{b - a}\n",
      "\n",
      "anywhere within the interval ``[a, b)``, and zero elsewhere.\n",
      "\n",
      "When ``high`` == ``low``, values of ``low`` will be returned.\n",
      "If ``high`` < ``low``, the results are officially undefined\n",
      "and may eventually raise an error, i.e. do not rely on this\n",
      "function to behave when passed arguments satisfying that\n",
      "inequality condition. The ``high`` limit may be included in the\n",
      "returned array of floats due to floating-point rounding in the\n",
      "equation ``low + (high-low) * random_sample()``. For example:\n",
      "\n",
      ">>> x = np.float32(5*0.99999999)\n",
      ">>> x\n",
      "np.float32(5.0)\n",
      "\n",
      "\n",
      "Examples\n",
      "--------\n",
      "Draw samples from the distribution:\n",
      "\n",
      ">>> s = np.random.uniform(-1,0,1000)\n",
      "\n",
      "All values are within the given interval:\n",
      "\n",
      ">>> np.all(s >= -1)\n",
      "True\n",
      ">>> np.all(s < 0)\n",
      "True\n",
      "\n",
      "Display the histogram of the samples, along with the\n",
      "probability density function:\n",
      "\n",
      ">>> import matplotlib.pyplot as plt\n",
      ">>> count, bins, ignored = plt.hist(s, 15, density=True)\n",
      ">>> plt.plot(bins, np.ones_like(bins), linewidth=2, color='r')\n",
      ">>> plt.show()\n",
      "\u001b[31mType:\u001b[39m      method"
     ]
    }
   ],
   "source": [
    "np.random.uniform?"
   ]
  },
  {
   "cell_type": "code",
   "execution_count": 117,
   "id": "4fe0f8b9",
   "metadata": {},
   "outputs": [
    {
     "name": "stdout",
     "output_type": "stream",
     "text": [
      "Help on method uniform in module numpy.random:\n",
      "\n",
      "uniform(low=0.0, high=1.0, size=None) method of numpy.random.mtrand.RandomState instance\n",
      "    uniform(low=0.0, high=1.0, size=None)\n",
      "\n",
      "    Draw samples from a uniform distribution.\n",
      "\n",
      "    Samples are uniformly distributed over the half-open interval\n",
      "    ``[low, high)`` (includes low, but excludes high).  In other words,\n",
      "    any value within the given interval is equally likely to be drawn\n",
      "    by `uniform`.\n",
      "\n",
      "    .. note::\n",
      "        New code should use the `~numpy.random.Generator.uniform`\n",
      "        method of a `~numpy.random.Generator` instance instead;\n",
      "        please see the :ref:`random-quick-start`.\n",
      "\n",
      "    Parameters\n",
      "    ----------\n",
      "    low : float or array_like of floats, optional\n",
      "        Lower boundary of the output interval.  All values generated will be\n",
      "        greater than or equal to low.  The default value is 0.\n",
      "    high : float or array_like of floats\n",
      "        Upper boundary of the output interval.  All values generated will be\n",
      "        less than or equal to high.  The high limit may be included in the\n",
      "        returned array of floats due to floating-point rounding in the\n",
      "        equation ``low + (high-low) * random_sample()``.  The default value\n",
      "        is 1.0.\n",
      "    size : int or tuple of ints, optional\n",
      "        Output shape.  If the given shape is, e.g., ``(m, n, k)``, then\n",
      "        ``m * n * k`` samples are drawn.  If size is ``None`` (default),\n",
      "        a single value is returned if ``low`` and ``high`` are both scalars.\n",
      "        Otherwise, ``np.broadcast(low, high).size`` samples are drawn.\n",
      "\n",
      "    Returns\n",
      "    -------\n",
      "    out : ndarray or scalar\n",
      "        Drawn samples from the parameterized uniform distribution.\n",
      "\n",
      "    See Also\n",
      "    --------\n",
      "    randint : Discrete uniform distribution, yielding integers.\n",
      "    random_integers : Discrete uniform distribution over the closed\n",
      "                      interval ``[low, high]``.\n",
      "    random_sample : Floats uniformly distributed over ``[0, 1)``.\n",
      "    random : Alias for `random_sample`.\n",
      "    rand : Convenience function that accepts dimensions as input, e.g.,\n",
      "           ``rand(2,2)`` would generate a 2-by-2 array of floats,\n",
      "           uniformly distributed over ``[0, 1)``.\n",
      "    random.Generator.uniform: which should be used for new code.\n",
      "\n",
      "    Notes\n",
      "    -----\n",
      "    The probability density function of the uniform distribution is\n",
      "\n",
      "    .. math:: p(x) = \\frac{1}{b - a}\n",
      "\n",
      "    anywhere within the interval ``[a, b)``, and zero elsewhere.\n",
      "\n",
      "    When ``high`` == ``low``, values of ``low`` will be returned.\n",
      "    If ``high`` < ``low``, the results are officially undefined\n",
      "    and may eventually raise an error, i.e. do not rely on this\n",
      "    function to behave when passed arguments satisfying that\n",
      "    inequality condition. The ``high`` limit may be included in the\n",
      "    returned array of floats due to floating-point rounding in the\n",
      "    equation ``low + (high-low) * random_sample()``. For example:\n",
      "\n",
      "    >>> x = np.float32(5*0.99999999)\n",
      "    >>> x\n",
      "    np.float32(5.0)\n",
      "\n",
      "\n",
      "    Examples\n",
      "    --------\n",
      "    Draw samples from the distribution:\n",
      "\n",
      "    >>> s = np.random.uniform(-1,0,1000)\n",
      "\n",
      "    All values are within the given interval:\n",
      "\n",
      "    >>> np.all(s >= -1)\n",
      "    True\n",
      "    >>> np.all(s < 0)\n",
      "    True\n",
      "\n",
      "    Display the histogram of the samples, along with the\n",
      "    probability density function:\n",
      "\n",
      "    >>> import matplotlib.pyplot as plt\n",
      "    >>> count, bins, ignored = plt.hist(s, 15, density=True)\n",
      "    >>> plt.plot(bins, np.ones_like(bins), linewidth=2, color='r')\n",
      "    >>> plt.show()\n",
      "\n"
     ]
    }
   ],
   "source": [
    "help(np.random.uniform)"
   ]
  }
 ],
 "metadata": {
  "kernelspec": {
   "display_name": "ML",
   "language": "python",
   "name": "python3"
  },
  "language_info": {
   "codemirror_mode": {
    "name": "ipython",
    "version": 3
   },
   "file_extension": ".py",
   "mimetype": "text/x-python",
   "name": "python",
   "nbconvert_exporter": "python",
   "pygments_lexer": "ipython3",
   "version": "3.13.2"
  }
 },
 "nbformat": 4,
 "nbformat_minor": 5
}
