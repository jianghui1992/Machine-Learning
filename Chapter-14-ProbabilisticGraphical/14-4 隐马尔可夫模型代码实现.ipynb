{
 "cells": [
  {
   "cell_type": "markdown",
   "id": "dfc9b506",
   "metadata": {},
   "source": [
    "## 数据准备"
   ]
  },
  {
   "cell_type": "code",
   "execution_count": 3,
   "id": "7ec6d597",
   "metadata": {},
   "outputs": [
    {
     "name": "stdout",
     "output_type": "stream",
     "text": [
      "初始概率矩阵：\n",
      " [0.33 0.33 0.33]\n",
      "转移矩阵：\n",
      " [[0.4 0.3 0.3]\n",
      " [0.3 0.4 0.3]\n",
      " [0.3 0.3 0.4]]\n",
      "发射矩阵：\n",
      " [[0.11 0.11 0.11 0.11 0.11 0.11 0.11 0.11 0.11]\n",
      " [0.   0.   0.   0.17 0.17 0.17 0.17 0.17 0.17]\n",
      " [0.   0.   0.   0.   0.   0.25 0.25 0.25 0.25]]\n"
     ]
    }
   ],
   "source": [
    "import numpy as np\n",
    "# 状态设定\n",
    "state = np.array(['认真复习', '简单复习', '没有复习'])\n",
    "grade = np.array(['A+', 'A', 'A-', 'B+', 'B', 'B-', 'C+', 'C', 'C-'])\n",
    "# 初始概率分布\n",
    "pi = np.array([1/3, 1/3, 1/3])\n",
    "# 转移矩阵\n",
    "t = np.array([\n",
    "    [0.4, 0.3, 0.3],\n",
    "    [0.3, 0.4, 0.3],\n",
    "    [0.3, 0.3, 0.4]\n",
    "])\n",
    "# 发射矩阵\n",
    "e = np.zeros([3,9])\n",
    "e[0, :9]=1/9    # 把第0行所有列的元素设为1/9\n",
    "e[1, 3:9]=1/6   # 把第1行3-9列的元素设为1/6\n",
    "e[2, 5:9]=1/4   # 把第2行5-9列的元素设为1/4\n",
    "# 让打印时,只打印小数点后两位\n",
    "np.set_printoptions(precision=2, suppress=True)\n",
    "# 打印结果\n",
    "print(\"初始概率矩阵：\\n\",pi)\n",
    "print(\"转移矩阵：\\n\",t)\n",
    "print(\"发射矩阵：\\n\",e)"
   ]
  },
  {
   "cell_type": "markdown",
   "id": "77f75ea5",
   "metadata": {},
   "source": [
    "## hmmlearn"
   ]
  },
  {
   "cell_type": "code",
   "execution_count": null,
   "id": "cac301f8",
   "metadata": {},
   "outputs": [],
   "source": [
    "! pip install hmmlearn"
   ]
  },
  {
   "cell_type": "code",
   "execution_count": 15,
   "id": "f83283b9",
   "metadata": {},
   "outputs": [],
   "source": [
    "from hmmlearn.hmm import CategoricalHMM\n",
    "# 创建一个分类HMM模型\n",
    "# n_components=3: 设置3个隐藏状态（认真复习、简单复习、没有复习）\n",
    "hmm = CategoricalHMM(n_components=3,random_state=42)\n",
    "hmm.startprob_ = pi  # startprob=pi: 设置初始概率分布\n",
    "hmm.transmat_ = t  # transmat=t: 设置状态转移矩阵\n",
    "hmm.emissionprob_ = e # emissionprob=e: 设置发射概率矩阵（各状态下观测值的概率分布）\n",
    "hmm.n_features = 9  #设置观测值的数量（9个等级：A+到C-）"
   ]
  },
  {
   "cell_type": "code",
   "execution_count": 16,
   "id": "ec552b9a",
   "metadata": {},
   "outputs": [
    {
     "data": {
      "text/plain": [
       "array([[0],\n",
       "       [4],\n",
       "       [2],\n",
       "       [6],\n",
       "       [1]])"
      ]
     },
     "execution_count": 16,
     "metadata": {},
     "output_type": "execute_result"
    }
   ],
   "source": [
    "# 创建样本数据，表示学生的成绩序列 例如：0代表A+，4代表B，6代表C+\n",
    "data = np.array([0, 4, 2, 6, 1])\n",
    "# hmmlearn要求输入数据为二维数组，其中第一维是时间序列，第二维是特征, axis=1表示在第二个维度上扩展\n",
    "data = np.expand_dims(data, axis=1)\n",
    "data\n"
   ]
  },
  {
   "cell_type": "code",
   "execution_count": null,
   "id": "26a31c80",
   "metadata": {},
   "outputs": [
    {
     "data": {
      "text/plain": [
       "array([0, 0, 0, 2, 0])"
      ]
     },
     "execution_count": 17,
     "metadata": {},
     "output_type": "execute_result"
    }
   ],
   "source": [
    "# 预测最可能的状态序列\n",
    "states = hmm.predict(data)\n",
    "states"
   ]
  },
  {
   "cell_type": "code",
   "execution_count": null,
   "id": "56ce8b7b",
   "metadata": {},
   "outputs": [
    {
     "name": "stdout",
     "output_type": "stream",
     "text": [
      "观测序列的似然概率为: 8.284786081615825e-07\n"
     ]
    }
   ],
   "source": [
    "# 计算给定观测序列的似然概率 : hmm.score()返回的是对数似然概率，需要用exp转换成实际概率\n",
    "print(f\"观测序列的似然概率为: {np.exp(hmm.score(data))}\")\n",
    "# 可以看到结果很小,因为观测值的可能性很多,所以每一种可能性的概率都很小"
   ]
  },
  {
   "cell_type": "markdown",
   "id": "8c710a50",
   "metadata": {},
   "source": [
    "也可以使用HMM生成符合我们之前约束条件的数据"
   ]
  },
  {
   "cell_type": "code",
   "execution_count": 20,
   "id": "b0b7fdee",
   "metadata": {},
   "outputs": [],
   "source": [
    "datas , states = hmm.sample(10000)"
   ]
  },
  {
   "cell_type": "code",
   "execution_count": 21,
   "id": "c9f46797",
   "metadata": {},
   "outputs": [
    {
     "name": "stdout",
     "output_type": "stream",
     "text": [
      "[[0.41 0.29 0.3 ]\n",
      " [0.31 0.4  0.29]\n",
      " [0.29 0.3  0.41]]\n"
     ]
    }
   ],
   "source": [
    "t_2 = np.zeros([3,3])\n",
    "for i in range(3):\n",
    "    current = np.where(states == i)[0]\n",
    "    next_index = current+1\n",
    "    next_index = next_index[:-1]\n",
    "\n",
    "    tmp = states[next_index]\n",
    "    for j in range(3):\n",
    "        t_2[i][j] = np.where(tmp==j)[0].shape[0]/np.shape(tmp)[0]\n",
    "print(t_2)"
   ]
  },
  {
   "cell_type": "code",
   "execution_count": 22,
   "id": "3fd643cd",
   "metadata": {},
   "outputs": [
    {
     "name": "stdout",
     "output_type": "stream",
     "text": [
      "[[0.12 0.11 0.11 0.12 0.11 0.11 0.1  0.11 0.11]\n",
      " [0.   0.   0.   0.16 0.16 0.17 0.17 0.17 0.18]\n",
      " [0.   0.   0.   0.   0.   0.25 0.25 0.24 0.25]]\n"
     ]
    }
   ],
   "source": [
    "e_2 = np.zeros([3,9])\n",
    "for i in range(3):\n",
    "    current = np.where(states == i)[0]\n",
    "    next_index = current+1\n",
    "    next_index = next_index[:-1]\n",
    "    tmp = datas[current]\n",
    "    for j in range(9):\n",
    "        e_2[i][j] = np.where(tmp==j)[0].shape[0]/np.shape(tmp)[0]\n",
    "print(e_2)"
   ]
  }
 ],
 "metadata": {
  "kernelspec": {
   "display_name": "ML",
   "language": "python",
   "name": "python3"
  },
  "language_info": {
   "codemirror_mode": {
    "name": "ipython",
    "version": 3
   },
   "file_extension": ".py",
   "mimetype": "text/x-python",
   "name": "python",
   "nbconvert_exporter": "python",
   "pygments_lexer": "ipython3",
   "version": "3.13.2"
  }
 },
 "nbformat": 4,
 "nbformat_minor": 5
}
