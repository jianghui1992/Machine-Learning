{
 "cells": [
  {
   "cell_type": "markdown",
   "id": "18ec62eb",
   "metadata": {},
   "source": [
    "## 不同模型比较"
   ]
  },
  {
   "cell_type": "code",
   "execution_count": 4,
   "id": "53ce4a08",
   "metadata": {},
   "outputs": [],
   "source": [
    "from sklearn import datasets\n",
    "import numpy as np\n",
    "from sklearn.neighbors import KNeighborsClassifier\n",
    "from sklearn.tree import DecisionTreeClassifier\n",
    "from sklearn.linear_model import LogisticRegression\n",
    "from sklearn.preprocessing import PolynomialFeatures\n",
    "from sklearn.pipeline import Pipeline\n",
    "from sklearn.preprocessing import StandardScaler\n",
    "from sklearn.model_selection import cross_val_score\n",
    "from sklearn.pipeline import make_pipeline\n"
   ]
  },
  {
   "cell_type": "code",
   "execution_count": null,
   "id": "909689ba",
   "metadata": {},
   "outputs": [],
   "source": [
    "def model_selection(x, y, cv):\n",
    "    knn = KNeighborsClassifier(n_neighbors=3)\n",
    "    dt = DecisionTreeClassifier(max_depth=5)\n",
    "    lr = make_pipeline(StandardScaler(),PolynomialFeatures(degree=2),LogisticRegression()) # 数据归一化,多项式特征,逻辑回归\n",
    "    \n",
    "    print('knn_score:%f, dt_score:%f, lr_score:%f'%(\n",
    "        np.mean(cross_val_score(knn, x, y, cv = cv)),  # cross_val_score : 使用k折交叉验证\n",
    "        np.mean(cross_val_score(lr, x, y, cv = cv)),\n",
    "        np.mean(cross_val_score(dt, x, y, cv = cv))))\n"
   ]
  },
  {
   "cell_type": "code",
   "execution_count": null,
   "id": "4d57f972",
   "metadata": {},
   "outputs": [
    {
     "name": "stdout",
     "output_type": "stream",
     "text": [
      "knn_score:0.966667, dt_score:0.966667, lr_score:0.966667\n"
     ]
    }
   ],
   "source": [
    "# 鸾尾花数据集对比,由于数据集较小,所以差异不明显\n",
    "dataset = datasets.load_iris()\n",
    "model_selection(dataset.data, dataset.target, 5)"
   ]
  },
  {
   "cell_type": "code",
   "execution_count": null,
   "id": "75e879b4",
   "metadata": {},
   "outputs": [
    {
     "name": "stdout",
     "output_type": "stream",
     "text": [
      "knn_score:0.966622, dt_score:0.946034, lr_score:0.630009\n"
     ]
    }
   ],
   "source": [
    "# 手写数字数据集识别对比,看到knn和决策树的效果差不多\n",
    "dataset = datasets.load_digits()\n",
    "model_selection(dataset.data, dataset.target, 5)"
   ]
  },
  {
   "cell_type": "code",
   "execution_count": 10,
   "id": "405fab1e",
   "metadata": {},
   "outputs": [],
   "source": [
    "from sklearn.neural_network import MLPClassifier"
   ]
  },
  {
   "cell_type": "code",
   "execution_count": 11,
   "id": "f0417bb9",
   "metadata": {},
   "outputs": [
    {
     "name": "stderr",
     "output_type": "stream",
     "text": [
      "/usr/local/anaconda3/envs/ML/lib/python3.13/site-packages/sklearn/neural_network/_multilayer_perceptron.py:691: ConvergenceWarning: Stochastic Optimizer: Maximum iterations (200) reached and the optimization hasn't converged yet.\n",
      "  warnings.warn(\n",
      "/usr/local/anaconda3/envs/ML/lib/python3.13/site-packages/sklearn/neural_network/_multilayer_perceptron.py:691: ConvergenceWarning: Stochastic Optimizer: Maximum iterations (200) reached and the optimization hasn't converged yet.\n",
      "  warnings.warn(\n",
      "/usr/local/anaconda3/envs/ML/lib/python3.13/site-packages/sklearn/neural_network/_multilayer_perceptron.py:691: ConvergenceWarning: Stochastic Optimizer: Maximum iterations (200) reached and the optimization hasn't converged yet.\n",
      "  warnings.warn(\n"
     ]
    },
    {
     "data": {
      "text/plain": [
       "np.float64(0.42405756731662014)"
      ]
     },
     "execution_count": 11,
     "metadata": {},
     "output_type": "execute_result"
    }
   ],
   "source": [
    "nn = MLPClassifier(\n",
    "    hidden_layer_sizes = (1,), \n",
    "    activation = 'identity', \n",
    "    learning_rate_init = 0.01, \n",
    "    random_state = 233\n",
    ")\n",
    "np.mean(cross_val_score(nn, dataset.data, dataset.target, cv = 5))"
   ]
  },
  {
   "cell_type": "markdown",
   "id": "8b7e8627",
   "metadata": {},
   "source": [
    "## 神经网络的模型选择"
   ]
  },
  {
   "cell_type": "code",
   "execution_count": 13,
   "id": "f5c9b63e",
   "metadata": {},
   "outputs": [],
   "source": [
    "dataset = datasets.load_digits()\n",
    "x,y = dataset.data ,dataset.target"
   ]
  },
  {
   "cell_type": "code",
   "execution_count": null,
   "id": "ccbe9a7a",
   "metadata": {},
   "outputs": [
    {
     "data": {
      "text/plain": [
       "np.float64(0.8809300526152894)"
      ]
     },
     "execution_count": 14,
     "metadata": {},
     "output_type": "execute_result"
    }
   ],
   "source": [
    "nn = MLPClassifier(\n",
    "    hidden_layer_sizes = (5,),      # 一个隐藏层,包含5个神经元\n",
    "    activation = 'identity',        # 激活函数使用identity(f(x)=x),可选:relu,tanh,logistic \n",
    "    learning_rate_init = 0.01,      # 初始学习率\n",
    "    random_state = 233              # 随机数种子,用于复现结果\n",
    ")\n",
    "np.mean(cross_val_score(nn, x, y, cv = 5))"
   ]
  },
  {
   "cell_type": "code",
   "execution_count": 15,
   "id": "26fa1f87",
   "metadata": {},
   "outputs": [
    {
     "data": {
      "text/plain": [
       "np.float64(0.9176539770968741)"
      ]
     },
     "execution_count": 15,
     "metadata": {},
     "output_type": "execute_result"
    }
   ],
   "source": [
    "nn = MLPClassifier(\n",
    "    hidden_layer_sizes = (100,), \n",
    "    activation = 'identity', \n",
    "    learning_rate_init = 0.01, \n",
    "    random_state = 233\n",
    ")\n",
    "np.mean(cross_val_score(nn, x, y, cv = 5))"
   ]
  },
  {
   "cell_type": "code",
   "execution_count": 16,
   "id": "3efc99a1",
   "metadata": {},
   "outputs": [
    {
     "data": {
      "text/plain": [
       "np.float64(0.3060631383472609)"
      ]
     },
     "execution_count": 16,
     "metadata": {},
     "output_type": "execute_result"
    }
   ],
   "source": [
    "nn = MLPClassifier(\n",
    "    hidden_layer_sizes = (5,), \n",
    "    activation = 'relu', \n",
    "    learning_rate_init = 0.01, \n",
    "    random_state = 233\n",
    ")\n",
    "np.mean(cross_val_score(nn, x, y, cv = 5))"
   ]
  },
  {
   "cell_type": "code",
   "execution_count": null,
   "id": "d5a3f5c9",
   "metadata": {},
   "outputs": [
    {
     "data": {
      "text/plain": [
       "np.float64(0.943237387805633)"
      ]
     },
     "execution_count": 52,
     "metadata": {},
     "output_type": "execute_result"
    }
   ],
   "source": [
    "nn = MLPClassifier(\n",
    "    hidden_layer_sizes = (100,100),  # 两个隐藏层,每层100个神经元\n",
    "    activation = 'relu',             # 激活函数使用ReLU,即f(x)=max(0,x),相比identity函数可以学习非线性特征\n",
    "    learning_rate_init = 0.01,       # 初始学习率,控制参数更新的步长,较小的值收敛更稳定但较慢\n",
    "    random_state = 233              # 随机数种子,用于初始化权重,确保结果可复现\n",
    ")\n",
    "np.mean(cross_val_score(nn, x, y, cv = 5))"
   ]
  },
  {
   "cell_type": "code",
   "execution_count": null,
   "id": "1ebb2cfc",
   "metadata": {},
   "outputs": [
    {
     "name": "stderr",
     "output_type": "stream",
     "text": [
      "/usr/local/anaconda3/envs/ML/lib/python3.13/site-packages/sklearn/neural_network/_multilayer_perceptron.py:698: UserWarning: Training interrupted by user.\n",
      "  warnings.warn(\"Training interrupted by user.\")\n"
     ]
    },
    {
     "data": {
      "text/plain": [
       "np.float64(0.937137109254101)"
      ]
     },
     "execution_count": 53,
     "metadata": {},
     "output_type": "execute_result"
    }
   ],
   "source": [
    "nn = MLPClassifier(\n",
    "    hidden_layer_sizes = (100,50,100), # 两个隐藏层,结果是100->50->100\n",
    "    activation = 'relu', \n",
    "    learning_rate_init = 0.01, \n",
    "    random_state = 233,\n",
    "    solver='sgd'\n",
    ")\n",
    "np.mean(cross_val_score(nn, x, y, cv = 5))"
   ]
  },
  {
   "cell_type": "code",
   "execution_count": null,
   "id": "32a5d168",
   "metadata": {},
   "outputs": [
    {
     "data": {
      "text/plain": [
       "np.float64(0.9271293717115444)"
      ]
     },
     "execution_count": 41,
     "metadata": {},
     "output_type": "execute_result"
    }
   ],
   "source": [
    "nn = MLPClassifier(\n",
    "    hidden_layer_sizes = (100,50,100,100,50,100,100,50,100),  \n",
    "    activation = 'relu',\n",
    "    learning_rate_init = 0.01,\n",
    "    random_state = 233  \n",
    ")\n",
    "np.mean(cross_val_score(nn, x, y, cv = 5))  "
   ]
  }
 ],
 "metadata": {
  "kernelspec": {
   "display_name": "ML",
   "language": "python",
   "name": "python3"
  },
  "language_info": {
   "codemirror_mode": {
    "name": "ipython",
    "version": 3
   },
   "file_extension": ".py",
   "mimetype": "text/x-python",
   "name": "python",
   "nbconvert_exporter": "python",
   "pygments_lexer": "ipython3",
   "version": "3.13.2"
  }
 },
 "nbformat": 4,
 "nbformat_minor": 5
}
