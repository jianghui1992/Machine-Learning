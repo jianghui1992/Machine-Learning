{
 "cells": [
  {
   "cell_type": "code",
   "execution_count": null,
   "id": "5365a398",
   "metadata": {},
   "outputs": [],
   "source": [
    "# 就是前面的疫情感染预测例子(x是样本,y是每个样本对应的标签, t是要预测的样本)\n",
    "X = [[1,0,0,1],\n",
    "     [0,1,0,0],\n",
    "     [1,1,0,0],\n",
    "     [0,1,2,0],\n",
    "     [1,0,0,0],\n",
    "     [1,0,0,0],\n",
    "     [1,1,2,1],\n",
    "     [0,1,1,0],\n",
    "     [1,1,1,0],\n",
    "     [0,0,2,0],\n",
    "     [1,1,0,1],\n",
    "     [1,1,0,1]]\n",
    "y = [0,0,1,1,0,0,1,1,1,1,0,0]\n",
    "t=[[0,0,0,1]]"
   ]
  },
  {
   "cell_type": "markdown",
   "id": "0890bc0c",
   "metadata": {},
   "source": [
    "## 分类器效果对比"
   ]
  },
  {
   "cell_type": "code",
   "execution_count": 54,
   "id": "155b5307",
   "metadata": {},
   "outputs": [],
   "source": [
    "from sklearn.datasets import load_iris\n",
    "\n",
    "iris = load_iris()\n",
    "X = iris.data\n",
    "y = iris.target\n",
    "from sklearn.model_selection import train_test_split\n",
    "X_train, X_test, y_train, y_test = train_test_split(X, y, test_size=0.25, random_state=0)"
   ]
  },
  {
   "cell_type": "code",
   "execution_count": 55,
   "id": "410eed61",
   "metadata": {},
   "outputs": [
    {
     "name": "stdout",
     "output_type": "stream",
     "text": [
      "BernoulliNB score: 0.2368\n",
      "GaussianNB score: 1.0000\n",
      "CategoricalNB score: 0.8947\n",
      "MultinomialNB score: 0.5789\n",
      "ComplementNB score: 0.5789\n"
     ]
    }
   ],
   "source": [
    "from sklearn.naive_bayes import BernoulliNB,GaussianNB,CategoricalNB,MultinomialNB,ComplementNB\n",
    "nbs = {\n",
    "    \"BernoulliNB\": BernoulliNB(),\n",
    "    \"GaussianNB\": GaussianNB(),\n",
    "    \"CategoricalNB\": CategoricalNB(),\n",
    "    \"MultinomialNB\": MultinomialNB(),\n",
    "    \"ComplementNB\": ComplementNB()\n",
    "}\n",
    "for name, nb in nbs.items():\n",
    "    nb.fit(X_train, y_train)\n",
    "    score = nb.score(X_test, y_test)\n",
    "    print(f\"{name} score: {score:.4f}\")\n",
    "\n",
    "# 因为特征是连续型(长度/宽度),且服从高斯分布,所以GaussianNB效果最好    "
   ]
  }
 ],
 "metadata": {
  "kernelspec": {
   "display_name": "ML",
   "language": "python",
   "name": "python3"
  },
  "language_info": {
   "codemirror_mode": {
    "name": "ipython",
    "version": 3
   },
   "file_extension": ".py",
   "mimetype": "text/x-python",
   "name": "python",
   "nbconvert_exporter": "python",
   "pygments_lexer": "ipython3",
   "version": "3.13.2"
  }
 },
 "nbformat": 4,
 "nbformat_minor": 5
}
